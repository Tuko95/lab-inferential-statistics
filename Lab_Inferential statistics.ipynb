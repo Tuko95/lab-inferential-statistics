{
 "cells": [
  {
   "cell_type": "code",
   "execution_count": 16,
   "id": "026a3854",
   "metadata": {},
   "outputs": [],
   "source": [
    "import scikit_posthocs as sp\n",
    "import numpy as np\n",
    "from scipy import stats\n",
    "import pandas as pd\n",
    "import os\n",
    "import math as m\n",
    "pd.options.display.float_format = '{:,.4f}'.format"
   ]
  },
  {
   "cell_type": "markdown",
   "id": "14e78e98",
   "metadata": {},
   "source": [
    "#### 1. It is assumed that the mean systolic blood pressure is μ = 120 mm Hg. In the Honolulu Heart Study, a sample of n = 100 people had an average systolic blood pressure of 130.1 mm Hg with a standard deviation of 21.21 mm Hg. Is the group significantly different (with respect to systolic blood pressure!) from the regular population?\n",
    "* Set up the hypothesis test."
   ]
  },
  {
   "cell_type": "code",
   "execution_count": 5,
   "id": "da912259",
   "metadata": {},
   "outputs": [],
   "source": [
    "# H0: There isn't a significantly difference between the Honolulu Heart Study's group and the mean of the total population\n",
    "\n",
    "# H1: There is a significantly difference between the Honolulu Heart Study's group and the mean of the total population"
   ]
  },
  {
   "cell_type": "markdown",
   "id": "f2f4432a",
   "metadata": {},
   "source": [
    "* Write down all the steps followed for setting up the test."
   ]
  },
  {
   "cell_type": "code",
   "execution_count": null,
   "id": "b6b7cb41",
   "metadata": {},
   "outputs": [],
   "source": [
    "# Choose significance/confidence level\n",
    "\n",
    "# Choose the sample in which this test it's gonna be based on --> n = 100 in this case\n",
    "\n",
    "# Compute the statistic\n",
    "\n",
    "# Get the p-value"
   ]
  },
  {
   "cell_type": "markdown",
   "id": "c01dd292",
   "metadata": {},
   "source": [
    "* Calculate the test statistic by hand and also code it in Python. It should be 4.76190. We will take a look at how to make decisions based on this calculated value."
   ]
  },
  {
   "cell_type": "markdown",
   "id": "b03db5a5",
   "metadata": {},
   "source": [
    "#### By hand\n",
    "\n",
    "t = (X‾ - μ0) / (std / √n)"
   ]
  },
  {
   "cell_type": "code",
   "execution_count": 10,
   "id": "0844dea6",
   "metadata": {},
   "outputs": [
    {
     "data": {
      "text/plain": [
       "4.761904761904759"
      ]
     },
     "execution_count": 10,
     "metadata": {},
     "output_type": "execute_result"
    }
   ],
   "source": [
    "(130.1 - 120) / (21.21/ m.sqrt(100))"
   ]
  },
  {
   "cell_type": "markdown",
   "id": "48782679",
   "metadata": {},
   "source": [
    "#### By code"
   ]
  },
  {
   "cell_type": "code",
   "execution_count": 19,
   "id": "a84ac8e9",
   "metadata": {},
   "outputs": [
    {
     "name": "stderr",
     "output_type": "stream",
     "text": [
      "C:\\Users\\TrendingPC\\AppData\\Local\\Temp\\ipykernel_4852\\324975152.py:4: RuntimeWarning: Precision loss occurred in moment calculation due to catastrophic cancellation. This occurs when the data are nearly identical. Results may be unreliable.\n",
      "  ttest = stats.ttest_ind(a,b)\n"
     ]
    },
    {
     "data": {
      "text/plain": [
       "Ttest_indResult(statistic=nan, pvalue=nan)"
      ]
     },
     "execution_count": 19,
     "metadata": {},
     "output_type": "execute_result"
    }
   ],
   "source": [
    "a = 120\n",
    "b = 130.1\n",
    "\n",
    "ttest = stats.ttest_ind(a,b)\n",
    "ttest"
   ]
  },
  {
   "cell_type": "markdown",
   "id": "9451ac7a",
   "metadata": {},
   "source": [
    "#### 2.If you finished the previous question, please go through the code for principal_component_analysis_example provided in the files_for_lab folder."
   ]
  }
 ],
 "metadata": {
  "kernelspec": {
   "display_name": "Python 3 (ipykernel)",
   "language": "python",
   "name": "python3"
  },
  "language_info": {
   "codemirror_mode": {
    "name": "ipython",
    "version": 3
   },
   "file_extension": ".py",
   "mimetype": "text/x-python",
   "name": "python",
   "nbconvert_exporter": "python",
   "pygments_lexer": "ipython3",
   "version": "3.9.13"
  }
 },
 "nbformat": 4,
 "nbformat_minor": 5
}
